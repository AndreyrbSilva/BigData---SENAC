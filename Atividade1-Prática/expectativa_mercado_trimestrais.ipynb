{
 "cells": [
  {
   "cell_type": "markdown",
   "id": "7e485390",
   "metadata": {},
   "source": [
    "<h2>Expectativas de Mercado Trimestrais</h2>"
   ]
  },
  {
   "cell_type": "markdown",
   "id": "b05199dc",
   "metadata": {},
   "source": [
    "<h3>Importando Bibliotecas</h3>"
   ]
  },
  {
   "cell_type": "code",
   "execution_count": 20,
   "id": "4c0a4d0b",
   "metadata": {},
   "outputs": [],
   "source": [
    "import requests\n",
    "import pandas as pd\n",
    "import json"
   ]
  },
  {
   "cell_type": "markdown",
   "id": "3784ab54",
   "metadata": {},
   "source": [
    "<h3>Informando URL da API</h3>"
   ]
  },
  {
   "cell_type": "code",
   "execution_count": 21,
   "id": "18491881",
   "metadata": {},
   "outputs": [],
   "source": [
    "url = \"https://olinda.bcb.gov.br/olinda/servico/Expectativas/versao/v1/odata/ExpectativasMercadoTrimestrais?$top=50000&$format=json&$select=Indicador,Data,DataReferencia,Media,Mediana,DesvioPadrao,Minimo,Maximo,numeroRespondentes,baseCalculo\""
   ]
  },
  {
   "cell_type": "markdown",
   "id": "3548e56b",
   "metadata": {},
   "source": [
    "<h3> Função para baixar dados da API </h3>\n",
    "<p>Definimos a função que faz a requisição e salva os dados em JSON.</p>"
   ]
  },
  {
   "cell_type": "code",
   "execution_count": 22,
   "id": "70c2af59",
   "metadata": {},
   "outputs": [],
   "source": [
    "\n",
    "def requisicao_api(link, json_filename=\"arquivos_json/expectativa_mercado_trimestrais.json\"):\n",
    "  resposta = requests.get(link)\n",
    "  print(\"Status Code:\", resposta.status_code)\n",
    "\n",
    "  if resposta.status_code == 200:\n",
    "    dados = resposta.json()\n",
    "    print('Status Code:', resposta.status_code)\n",
    "    with open(json_filename, 'w', encoding='utf-8') as arquivo:\n",
    "      json.dump(dados, arquivo, ensure_ascii=False, indent=4)\n",
    "\n",
    "  else:\n",
    "    print('Ocorreu um erro tente novamente.\\nStatus Code:', resposta.status_code)"
   ]
  },
  {
   "cell_type": "markdown",
   "id": "fad0c604",
   "metadata": {},
   "source": [
    "<h3> Requisição dos dados e salvamento em JSON </h3>\n",
    "<p>Chamamos a função passando a URL e salvamos o resultado em <code>arquivos_json/</code>.</p>"
   ]
  },
  {
   "cell_type": "code",
   "execution_count": 23,
   "id": "64673944",
   "metadata": {},
   "outputs": [
    {
     "name": "stdout",
     "output_type": "stream",
     "text": [
      "Status Code: 200\n",
      "Status Code: 200\n"
     ]
    }
   ],
   "source": [
    "requisicao_api(url)"
   ]
  },
  {
   "cell_type": "markdown",
   "id": "874ba427",
   "metadata": {},
   "source": [
    "<h3> Conversão do JSON em DataFrame </h3>\n",
    "<p>Carregamos o JSON salvo e organizamos os dados em formato tabular com pandas.</p>"
   ]
  },
  {
   "cell_type": "code",
   "execution_count": 24,
   "id": "9a4dda43",
   "metadata": {},
   "outputs": [
    {
     "data": {
      "text/html": [
       "<div>\n",
       "<style scoped>\n",
       "    .dataframe tbody tr th:only-of-type {\n",
       "        vertical-align: middle;\n",
       "    }\n",
       "\n",
       "    .dataframe tbody tr th {\n",
       "        vertical-align: top;\n",
       "    }\n",
       "\n",
       "    .dataframe thead th {\n",
       "        text-align: right;\n",
       "    }\n",
       "</style>\n",
       "<table border=\"1\" class=\"dataframe\">\n",
       "  <thead>\n",
       "    <tr style=\"text-align: right;\">\n",
       "      <th></th>\n",
       "      <th>Indicador</th>\n",
       "      <th>Data</th>\n",
       "      <th>DataReferencia</th>\n",
       "      <th>Media</th>\n",
       "      <th>Mediana</th>\n",
       "      <th>DesvioPadrao</th>\n",
       "      <th>Minimo</th>\n",
       "      <th>Maximo</th>\n",
       "      <th>numeroRespondentes</th>\n",
       "      <th>baseCalculo</th>\n",
       "    </tr>\n",
       "  </thead>\n",
       "  <tbody>\n",
       "    <tr>\n",
       "      <th>0</th>\n",
       "      <td>IPCA</td>\n",
       "      <td>2021-09-14</td>\n",
       "      <td>3/2021</td>\n",
       "      <td>2.6803</td>\n",
       "      <td>2.7549</td>\n",
       "      <td>0.2296</td>\n",
       "      <td>2.1201</td>\n",
       "      <td>2.9891</td>\n",
       "      <td>117.0</td>\n",
       "      <td>1</td>\n",
       "    </tr>\n",
       "    <tr>\n",
       "      <th>1</th>\n",
       "      <td>IPCA</td>\n",
       "      <td>2021-09-14</td>\n",
       "      <td>4/2021</td>\n",
       "      <td>1.4356</td>\n",
       "      <td>1.4418</td>\n",
       "      <td>0.2070</td>\n",
       "      <td>0.8120</td>\n",
       "      <td>2.0133</td>\n",
       "      <td>116.0</td>\n",
       "      <td>1</td>\n",
       "    </tr>\n",
       "    <tr>\n",
       "      <th>2</th>\n",
       "      <td>IPCA</td>\n",
       "      <td>2021-09-14</td>\n",
       "      <td>1/2022</td>\n",
       "      <td>1.2195</td>\n",
       "      <td>1.1645</td>\n",
       "      <td>0.2350</td>\n",
       "      <td>0.6210</td>\n",
       "      <td>1.8511</td>\n",
       "      <td>107.0</td>\n",
       "      <td>1</td>\n",
       "    </tr>\n",
       "    <tr>\n",
       "      <th>3</th>\n",
       "      <td>IPCA</td>\n",
       "      <td>2021-09-14</td>\n",
       "      <td>2/2022</td>\n",
       "      <td>0.7806</td>\n",
       "      <td>0.8021</td>\n",
       "      <td>0.2521</td>\n",
       "      <td>0.1753</td>\n",
       "      <td>1.3558</td>\n",
       "      <td>105.0</td>\n",
       "      <td>1</td>\n",
       "    </tr>\n",
       "    <tr>\n",
       "      <th>4</th>\n",
       "      <td>IPCA</td>\n",
       "      <td>2021-09-14</td>\n",
       "      <td>3/2022</td>\n",
       "      <td>0.8264</td>\n",
       "      <td>0.8122</td>\n",
       "      <td>0.2072</td>\n",
       "      <td>0.1488</td>\n",
       "      <td>1.4775</td>\n",
       "      <td>104.0</td>\n",
       "      <td>1</td>\n",
       "    </tr>\n",
       "  </tbody>\n",
       "</table>\n",
       "</div>"
      ],
      "text/plain": [
       "  Indicador        Data DataReferencia   Media  Mediana  DesvioPadrao  Minimo  \\\n",
       "0      IPCA  2021-09-14         3/2021  2.6803   2.7549        0.2296  2.1201   \n",
       "1      IPCA  2021-09-14         4/2021  1.4356   1.4418        0.2070  0.8120   \n",
       "2      IPCA  2021-09-14         1/2022  1.2195   1.1645        0.2350  0.6210   \n",
       "3      IPCA  2021-09-14         2/2022  0.7806   0.8021        0.2521  0.1753   \n",
       "4      IPCA  2021-09-14         3/2022  0.8264   0.8122        0.2072  0.1488   \n",
       "\n",
       "   Maximo  numeroRespondentes  baseCalculo  \n",
       "0  2.9891               117.0            1  \n",
       "1  2.0133               116.0            1  \n",
       "2  1.8511               107.0            1  \n",
       "3  1.3558               105.0            1  \n",
       "4  1.4775               104.0            1  "
      ]
     },
     "execution_count": 24,
     "metadata": {},
     "output_type": "execute_result"
    }
   ],
   "source": [
    "jsondata = pd.read_json(\"arquivos_json/expectativa_mercado_trimestrais.json\")\n",
    "data = jsondata.get(\"value\", [])\n",
    "df = pd.json_normalize(data)\n",
    "\n",
    "# mostrar as 5 primeiras linhas do DataFrame\n",
    "df.head()\n"
   ]
  },
  {
   "cell_type": "code",
   "execution_count": 25,
   "id": "2b2dd774",
   "metadata": {},
   "outputs": [
    {
     "data": {
      "text/plain": [
       "['Indicador',\n",
       " 'Data',\n",
       " 'DataReferencia',\n",
       " 'Media',\n",
       " 'Mediana',\n",
       " 'DesvioPadrao',\n",
       " 'Minimo',\n",
       " 'Maximo',\n",
       " 'numeroRespondentes',\n",
       " 'baseCalculo']"
      ]
     },
     "execution_count": 25,
     "metadata": {},
     "output_type": "execute_result"
    }
   ],
   "source": [
    "# verificar os nomes das colunas\n",
    "df.columns.tolist()"
   ]
  },
  {
   "cell_type": "markdown",
   "id": "820347e4",
   "metadata": {},
   "source": [
    "<h3> Exportação do DataFrame para CSV </h3>\n",
    "<p>o DataFrame final é salvo em uma subpasta para melhor organização</p>"
   ]
  },
  {
   "cell_type": "code",
   "execution_count": 26,
   "id": "85c98bec",
   "metadata": {},
   "outputs": [
    {
     "name": "stdout",
     "output_type": "stream",
     "text": [
      "CSV salvo com sucesso!\n",
      "Arquivo salvo na pasta: arquivos_csv\n",
      "Arquivo salvo como: expectativa_mercado_trimestrais.csv\n"
     ]
    }
   ],
   "source": [
    "df.to_csv(\"arquivos_csv/expectativa_mercado_trimestrais.csv\", index=False, encoding=\"utf-8-sig\")\n",
    "print(\"CSV salvo com sucesso!\")\n",
    "print(\"Arquivo salvo na pasta: arquivos_csv\")\n",
    "print(\"Arquivo salvo como: expectativa_mercado_trimestrais.csv\")"
   ]
  }
 ],
 "metadata": {
  "kernelspec": {
   "display_name": ".venv",
   "language": "python",
   "name": "python3"
  },
  "language_info": {
   "codemirror_mode": {
    "name": "ipython",
    "version": 3
   },
   "file_extension": ".py",
   "mimetype": "text/x-python",
   "name": "python",
   "nbconvert_exporter": "python",
   "pygments_lexer": "ipython3",
   "version": "3.11.9"
  }
 },
 "nbformat": 4,
 "nbformat_minor": 5
}
