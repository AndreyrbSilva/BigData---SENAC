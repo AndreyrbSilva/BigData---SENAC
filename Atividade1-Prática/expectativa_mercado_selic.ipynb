{
 "cells": [
  {
   "cell_type": "markdown",
   "id": "7e485390",
   "metadata": {},
   "source": [
    "<h2>Expectativas de Mercado Selic</h2>"
   ]
  },
  {
   "cell_type": "markdown",
   "id": "b05199dc",
   "metadata": {},
   "source": [
    "<h3>Importando Bibliotecas</h3>"
   ]
  },
  {
   "cell_type": "code",
   "execution_count": 8,
   "id": "4c0a4d0b",
   "metadata": {},
   "outputs": [],
   "source": [
    "import requests\n",
    "import pandas as pd\n",
    "import json"
   ]
  },
  {
   "cell_type": "markdown",
   "id": "3784ab54",
   "metadata": {},
   "source": [
    "<h3>Informando URL da API</h3>"
   ]
  },
  {
   "cell_type": "code",
   "execution_count": null,
   "id": "18491881",
   "metadata": {},
   "outputs": [],
   "source": [
    "url = \"https://olinda.bcb.gov.br/olinda/servico/Expectativas/versao/v1/odata/ExpectativasMercadoSelic?$top=20000&$format=json&$select=Indicador,Data,Reuniao,Media,Mediana,DesvioPadrao,Minimo,Maximo,numeroRespondentes,baseCalculo\""
   ]
  },
  {
   "cell_type": "markdown",
   "id": "3548e56b",
   "metadata": {},
   "source": [
    "<h3> Função para baixar dados da API </h3>\n",
    "<p>Definimos a função que faz a requisição e salva os dados em JSON.</p>"
   ]
  },
  {
   "cell_type": "code",
   "execution_count": 10,
   "id": "70c2af59",
   "metadata": {},
   "outputs": [],
   "source": [
    "\n",
    "def requisicao_api(link, json_filename=\"arquivos_json/expectativa_mercado_selic.json\"):\n",
    "  resposta = requests.get(link)\n",
    "  print(\"Status Code:\", resposta.status_code)\n",
    "\n",
    "  if resposta.status_code == 200:\n",
    "    dados = resposta.json()\n",
    "    print('Status Code:', resposta.status_code)\n",
    "    with open(json_filename, 'w', encoding='utf-8') as arquivo:\n",
    "      json.dump(dados, arquivo, ensure_ascii=False, indent=4)\n",
    "\n",
    "  else:\n",
    "    print('Ocorreu um erro tente novamente.\\nStatus Code:', resposta.status_code)"
   ]
  },
  {
   "cell_type": "markdown",
   "id": "fad0c604",
   "metadata": {},
   "source": [
    "<h3> Requisição dos dados e salvamento em JSON </h3>\n",
    "<p>Chamamos a função passando a URL e salvamos o resultado em <code>arquivos_json/</code>.</p>"
   ]
  },
  {
   "cell_type": "code",
   "execution_count": 11,
   "id": "64673944",
   "metadata": {},
   "outputs": [
    {
     "name": "stdout",
     "output_type": "stream",
     "text": [
      "Status Code: 200\n",
      "Status Code: 200\n"
     ]
    }
   ],
   "source": [
    "requisicao_api(url)"
   ]
  },
  {
   "cell_type": "markdown",
   "id": "874ba427",
   "metadata": {},
   "source": [
    "<h3> Conversão do JSON em DataFrame </h3>\n",
    "<p>Carregamos o JSON salvo e organizamos os dados em formato tabular com pandas.</p>"
   ]
  },
  {
   "cell_type": "code",
   "execution_count": 12,
   "id": "9a4dda43",
   "metadata": {},
   "outputs": [
    {
     "data": {
      "text/html": [
       "<div>\n",
       "<style scoped>\n",
       "    .dataframe tbody tr th:only-of-type {\n",
       "        vertical-align: middle;\n",
       "    }\n",
       "\n",
       "    .dataframe tbody tr th {\n",
       "        vertical-align: top;\n",
       "    }\n",
       "\n",
       "    .dataframe thead th {\n",
       "        text-align: right;\n",
       "    }\n",
       "</style>\n",
       "<table border=\"1\" class=\"dataframe\">\n",
       "  <thead>\n",
       "    <tr style=\"text-align: right;\">\n",
       "      <th></th>\n",
       "      <th>Indicador</th>\n",
       "      <th>Data</th>\n",
       "      <th>Reuniao</th>\n",
       "      <th>Media</th>\n",
       "      <th>Mediana</th>\n",
       "      <th>DesvioPadrao</th>\n",
       "      <th>Minimo</th>\n",
       "      <th>Maximo</th>\n",
       "      <th>numeroRespondentes</th>\n",
       "      <th>baseCalculo</th>\n",
       "    </tr>\n",
       "  </thead>\n",
       "  <tbody>\n",
       "    <tr>\n",
       "      <th>0</th>\n",
       "      <td>Selic</td>\n",
       "      <td>2025-08-22</td>\n",
       "      <td>R5/2027</td>\n",
       "      <td>10.9420</td>\n",
       "      <td>11.00</td>\n",
       "      <td>1.0718</td>\n",
       "      <td>9.0</td>\n",
       "      <td>15.0</td>\n",
       "      <td>69</td>\n",
       "      <td>1</td>\n",
       "    </tr>\n",
       "    <tr>\n",
       "      <th>1</th>\n",
       "      <td>Selic</td>\n",
       "      <td>2025-08-22</td>\n",
       "      <td>R5/2027</td>\n",
       "      <td>11.0080</td>\n",
       "      <td>11.00</td>\n",
       "      <td>1.1033</td>\n",
       "      <td>9.0</td>\n",
       "      <td>15.0</td>\n",
       "      <td>94</td>\n",
       "      <td>0</td>\n",
       "    </tr>\n",
       "    <tr>\n",
       "      <th>2</th>\n",
       "      <td>Selic</td>\n",
       "      <td>2025-08-22</td>\n",
       "      <td>R4/2027</td>\n",
       "      <td>11.1975</td>\n",
       "      <td>11.00</td>\n",
       "      <td>1.0044</td>\n",
       "      <td>9.0</td>\n",
       "      <td>15.0</td>\n",
       "      <td>81</td>\n",
       "      <td>1</td>\n",
       "    </tr>\n",
       "    <tr>\n",
       "      <th>3</th>\n",
       "      <td>Selic</td>\n",
       "      <td>2025-08-22</td>\n",
       "      <td>R4/2027</td>\n",
       "      <td>11.2565</td>\n",
       "      <td>11.25</td>\n",
       "      <td>1.0143</td>\n",
       "      <td>9.0</td>\n",
       "      <td>15.0</td>\n",
       "      <td>115</td>\n",
       "      <td>0</td>\n",
       "    </tr>\n",
       "    <tr>\n",
       "      <th>4</th>\n",
       "      <td>Selic</td>\n",
       "      <td>2025-08-22</td>\n",
       "      <td>R3/2027</td>\n",
       "      <td>11.4256</td>\n",
       "      <td>11.50</td>\n",
       "      <td>0.9604</td>\n",
       "      <td>9.5</td>\n",
       "      <td>15.0</td>\n",
       "      <td>84</td>\n",
       "      <td>1</td>\n",
       "    </tr>\n",
       "  </tbody>\n",
       "</table>\n",
       "</div>"
      ],
      "text/plain": [
       "  Indicador        Data  Reuniao    Media  Mediana  DesvioPadrao  Minimo  \\\n",
       "0     Selic  2025-08-22  R5/2027  10.9420    11.00        1.0718     9.0   \n",
       "1     Selic  2025-08-22  R5/2027  11.0080    11.00        1.1033     9.0   \n",
       "2     Selic  2025-08-22  R4/2027  11.1975    11.00        1.0044     9.0   \n",
       "3     Selic  2025-08-22  R4/2027  11.2565    11.25        1.0143     9.0   \n",
       "4     Selic  2025-08-22  R3/2027  11.4256    11.50        0.9604     9.5   \n",
       "\n",
       "   Maximo  numeroRespondentes  baseCalculo  \n",
       "0    15.0                  69            1  \n",
       "1    15.0                  94            0  \n",
       "2    15.0                  81            1  \n",
       "3    15.0                 115            0  \n",
       "4    15.0                  84            1  "
      ]
     },
     "execution_count": 12,
     "metadata": {},
     "output_type": "execute_result"
    }
   ],
   "source": [
    "jsondata = pd.read_json(\"arquivos_json/expectativa_mercado_selic.json\")\n",
    "data = jsondata.get(\"value\", [])\n",
    "df = pd.json_normalize(data)\n",
    "\n",
    "# mostrar as 5 primeiras linhas do DataFrame\n",
    "df.head()\n"
   ]
  },
  {
   "cell_type": "code",
   "execution_count": 13,
   "id": "2b2dd774",
   "metadata": {},
   "outputs": [
    {
     "data": {
      "text/plain": [
       "['Indicador',\n",
       " 'Data',\n",
       " 'Reuniao',\n",
       " 'Media',\n",
       " 'Mediana',\n",
       " 'DesvioPadrao',\n",
       " 'Minimo',\n",
       " 'Maximo',\n",
       " 'numeroRespondentes',\n",
       " 'baseCalculo']"
      ]
     },
     "execution_count": 13,
     "metadata": {},
     "output_type": "execute_result"
    }
   ],
   "source": [
    "# verificar os nomes das colunas\n",
    "df.columns.tolist()"
   ]
  },
  {
   "cell_type": "markdown",
   "id": "820347e4",
   "metadata": {},
   "source": [
    "<h3> Exportação do DataFrame para CSV </h3>\n",
    "<p>o DataFrame final é salvo em uma subpasta para melhor organização</p>"
   ]
  },
  {
   "cell_type": "code",
   "execution_count": 14,
   "id": "85c98bec",
   "metadata": {},
   "outputs": [
    {
     "name": "stdout",
     "output_type": "stream",
     "text": [
      "CSV salvo com sucesso!\n",
      "Arquivo salvo na pasta: arquivos_csv\n",
      "Arquivo salvo como: expectativa_mercado_selic.csv\n"
     ]
    }
   ],
   "source": [
    "df.to_csv(\"arquivos_csv/expectativa_mercado_selic.csv\", index=False, encoding=\"utf-8-sig\")\n",
    "print(\"CSV salvo com sucesso!\")\n",
    "print(\"Arquivo salvo na pasta: arquivos_csv\")\n",
    "print(\"Arquivo salvo como: expectativa_mercado_selic.csv\")"
   ]
  }
 ],
 "metadata": {
  "kernelspec": {
   "display_name": ".venv",
   "language": "python",
   "name": "python3"
  },
  "language_info": {
   "codemirror_mode": {
    "name": "ipython",
    "version": 3
   },
   "file_extension": ".py",
   "mimetype": "text/x-python",
   "name": "python",
   "nbconvert_exporter": "python",
   "pygments_lexer": "ipython3",
   "version": "3.11.9"
  }
 },
 "nbformat": 4,
 "nbformat_minor": 5
}
