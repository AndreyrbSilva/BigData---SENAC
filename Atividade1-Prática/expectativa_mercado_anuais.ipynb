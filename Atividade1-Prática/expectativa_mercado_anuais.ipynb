{
 "cells": [
  {
   "cell_type": "markdown",
   "id": "7e485390",
   "metadata": {},
   "source": [
    "<h2>Expectativas de Mercado Anuais</h2>"
   ]
  },
  {
   "cell_type": "markdown",
   "id": "b05199dc",
   "metadata": {},
   "source": [
    "<h3>Importando Bibliotecas</h3>"
   ]
  },
  {
   "cell_type": "code",
   "execution_count": 41,
   "id": "4c0a4d0b",
   "metadata": {},
   "outputs": [],
   "source": [
    "import requests\n",
    "import pandas as pd\n",
    "import json"
   ]
  },
  {
   "cell_type": "markdown",
   "id": "3784ab54",
   "metadata": {},
   "source": [
    "<h3>Informando URL da API</h3>"
   ]
  },
  {
   "cell_type": "code",
   "execution_count": 42,
   "id": "18491881",
   "metadata": {},
   "outputs": [],
   "source": [
    "url = \"https://olinda.bcb.gov.br/olinda/servico/Expectativas/versao/v1/odata/ExpectativasMercadoAnuais?$top=35000&$format=json&$select=Indicador,IndicadorDetalhe,Data,DataReferencia,Media,Mediana,DesvioPadrao,Minimo,Maximo,numeroRespondentes,baseCalculo\""
   ]
  },
  {
   "cell_type": "markdown",
   "id": "3548e56b",
   "metadata": {},
   "source": [
    "<h3> Função para baixar dados da API </h3>\n",
    "<p>Definimos a função que faz a requisição e salva os dados em JSON.</p>"
   ]
  },
  {
   "cell_type": "code",
   "execution_count": 43,
   "id": "70c2af59",
   "metadata": {},
   "outputs": [],
   "source": [
    "\n",
    "def requisicao_api(link, json_filename=\"arquivos_json/expectativa_mercado_anuais.json\"):\n",
    "  resposta = requests.get(link)\n",
    "  print(\"Status Code:\", resposta.status_code)\n",
    "\n",
    "  if resposta.status_code == 200:\n",
    "    dados = resposta.json()\n",
    "    print('Status Code:', resposta.status_code)\n",
    "    with open(json_filename, 'w', encoding='utf-8') as arquivo:\n",
    "      json.dump(dados, arquivo, ensure_ascii=False, indent=4)\n",
    "\n",
    "  else:\n",
    "     print('Ocorreu um erro tente novamente.\\nStatus Code:', resposta.status_code)"
   ]
  },
  {
   "cell_type": "markdown",
   "id": "fad0c604",
   "metadata": {},
   "source": [
    "<h3> Requisição dos dados e salvamento em JSON </h3>\n",
    "<p>Chamamos a função passando a URL e salvamos o resultado em <code>arquivos_json/</code>.</p>"
   ]
  },
  {
   "cell_type": "code",
   "execution_count": 44,
   "id": "64673944",
   "metadata": {},
   "outputs": [
    {
     "name": "stdout",
     "output_type": "stream",
     "text": [
      "Status Code: 200\n",
      "Status Code: 200\n"
     ]
    }
   ],
   "source": [
    "requisicao_api(url)"
   ]
  },
  {
   "cell_type": "markdown",
   "id": "874ba427",
   "metadata": {},
   "source": [
    "<h3> Conversão do JSON em DataFrame </h3>\n",
    "<p>Carregamos o JSON salvo e organizamos os dados em formato tabular com pandas.</p>"
   ]
  },
  {
   "cell_type": "code",
   "execution_count": 45,
   "id": "9a4dda43",
   "metadata": {},
   "outputs": [
    {
     "data": {
      "text/html": [
       "<div>\n",
       "<style scoped>\n",
       "    .dataframe tbody tr th:only-of-type {\n",
       "        vertical-align: middle;\n",
       "    }\n",
       "\n",
       "    .dataframe tbody tr th {\n",
       "        vertical-align: top;\n",
       "    }\n",
       "\n",
       "    .dataframe thead th {\n",
       "        text-align: right;\n",
       "    }\n",
       "</style>\n",
       "<table border=\"1\" class=\"dataframe\">\n",
       "  <thead>\n",
       "    <tr style=\"text-align: right;\">\n",
       "      <th></th>\n",
       "      <th>Indicador</th>\n",
       "      <th>IndicadorDetalhe</th>\n",
       "      <th>Data</th>\n",
       "      <th>DataReferencia</th>\n",
       "      <th>Media</th>\n",
       "      <th>Mediana</th>\n",
       "      <th>DesvioPadrao</th>\n",
       "      <th>Minimo</th>\n",
       "      <th>Maximo</th>\n",
       "      <th>numeroRespondentes</th>\n",
       "      <th>baseCalculo</th>\n",
       "    </tr>\n",
       "  </thead>\n",
       "  <tbody>\n",
       "    <tr>\n",
       "      <th>0</th>\n",
       "      <td>Balança comercial</td>\n",
       "      <td>Exportações</td>\n",
       "      <td>2001-11-06</td>\n",
       "      <td>2001</td>\n",
       "      <td>58.54</td>\n",
       "      <td>58.30</td>\n",
       "      <td>1.21</td>\n",
       "      <td>55.4</td>\n",
       "      <td>64.15</td>\n",
       "      <td>NaN</td>\n",
       "      <td>0</td>\n",
       "    </tr>\n",
       "    <tr>\n",
       "      <th>1</th>\n",
       "      <td>Balança comercial</td>\n",
       "      <td>Exportações</td>\n",
       "      <td>2001-11-06</td>\n",
       "      <td>2002</td>\n",
       "      <td>61.17</td>\n",
       "      <td>61.00</td>\n",
       "      <td>2.13</td>\n",
       "      <td>56.6</td>\n",
       "      <td>66.00</td>\n",
       "      <td>NaN</td>\n",
       "      <td>0</td>\n",
       "    </tr>\n",
       "    <tr>\n",
       "      <th>2</th>\n",
       "      <td>Balança comercial</td>\n",
       "      <td>Exportações</td>\n",
       "      <td>2001-11-06</td>\n",
       "      <td>2003</td>\n",
       "      <td>66.82</td>\n",
       "      <td>67.70</td>\n",
       "      <td>3.26</td>\n",
       "      <td>62.1</td>\n",
       "      <td>71.70</td>\n",
       "      <td>NaN</td>\n",
       "      <td>0</td>\n",
       "    </tr>\n",
       "    <tr>\n",
       "      <th>3</th>\n",
       "      <td>Balança comercial</td>\n",
       "      <td>Exportações</td>\n",
       "      <td>2001-11-06</td>\n",
       "      <td>2004</td>\n",
       "      <td>67.28</td>\n",
       "      <td>67.28</td>\n",
       "      <td>2.23</td>\n",
       "      <td>65.7</td>\n",
       "      <td>68.85</td>\n",
       "      <td>NaN</td>\n",
       "      <td>0</td>\n",
       "    </tr>\n",
       "    <tr>\n",
       "      <th>4</th>\n",
       "      <td>Balança comercial</td>\n",
       "      <td>Exportações</td>\n",
       "      <td>2001-11-06</td>\n",
       "      <td>2005</td>\n",
       "      <td>69.90</td>\n",
       "      <td>69.90</td>\n",
       "      <td>0.00</td>\n",
       "      <td>69.9</td>\n",
       "      <td>69.90</td>\n",
       "      <td>NaN</td>\n",
       "      <td>0</td>\n",
       "    </tr>\n",
       "  </tbody>\n",
       "</table>\n",
       "</div>"
      ],
      "text/plain": [
       "           Indicador IndicadorDetalhe        Data DataReferencia  Media  \\\n",
       "0  Balança comercial      Exportações  2001-11-06           2001  58.54   \n",
       "1  Balança comercial      Exportações  2001-11-06           2002  61.17   \n",
       "2  Balança comercial      Exportações  2001-11-06           2003  66.82   \n",
       "3  Balança comercial      Exportações  2001-11-06           2004  67.28   \n",
       "4  Balança comercial      Exportações  2001-11-06           2005  69.90   \n",
       "\n",
       "   Mediana  DesvioPadrao  Minimo  Maximo  numeroRespondentes  baseCalculo  \n",
       "0    58.30          1.21    55.4   64.15                 NaN            0  \n",
       "1    61.00          2.13    56.6   66.00                 NaN            0  \n",
       "2    67.70          3.26    62.1   71.70                 NaN            0  \n",
       "3    67.28          2.23    65.7   68.85                 NaN            0  \n",
       "4    69.90          0.00    69.9   69.90                 NaN            0  "
      ]
     },
     "execution_count": 45,
     "metadata": {},
     "output_type": "execute_result"
    }
   ],
   "source": [
    "jsondata = pd.read_json(\"arquivos_json/expectativa_mercado_anuais.json\")\n",
    "data = jsondata.get(\"value\", [])\n",
    "df = pd.json_normalize(data)\n",
    "\n",
    "# mostrar as 5 primeiras linhas do DataFrame\n",
    "df.head()\n"
   ]
  },
  {
   "cell_type": "code",
   "execution_count": 46,
   "id": "2b2dd774",
   "metadata": {},
   "outputs": [
    {
     "data": {
      "text/plain": [
       "['Indicador',\n",
       " 'IndicadorDetalhe',\n",
       " 'Data',\n",
       " 'DataReferencia',\n",
       " 'Media',\n",
       " 'Mediana',\n",
       " 'DesvioPadrao',\n",
       " 'Minimo',\n",
       " 'Maximo',\n",
       " 'numeroRespondentes',\n",
       " 'baseCalculo']"
      ]
     },
     "execution_count": 46,
     "metadata": {},
     "output_type": "execute_result"
    }
   ],
   "source": [
    "# verificar os nomes das colunas\n",
    "df.columns.tolist()"
   ]
  },
  {
   "cell_type": "markdown",
   "id": "820347e4",
   "metadata": {},
   "source": [
    "<h3> Exportação do DataFrame para CSV </h3>\n",
    "<p>o DataFrame final é salvo em uma subpasta para melhor organização</p>"
   ]
  },
  {
   "cell_type": "code",
   "execution_count": 47,
   "id": "85c98bec",
   "metadata": {},
   "outputs": [
    {
     "name": "stdout",
     "output_type": "stream",
     "text": [
      "CSV salvo com sucesso!\n",
      "Arquivo salvo na pasta: arquivos_csv\n",
      "Arquivo salvo como: expectativa_mercado_anuais.csv\n"
     ]
    }
   ],
   "source": [
    "df.to_csv(\"arquivos_csv/expectativa_mercado_anuais.csv\", index=False, encoding=\"utf-8-sig\")\n",
    "print(\"CSV salvo com sucesso!\")\n",
    "print(\"Arquivo salvo na pasta: arquivos_csv\")\n",
    "print(\"Arquivo salvo como: expectativa_mercado_anuais.csv\")"
   ]
  }
 ],
 "metadata": {
  "kernelspec": {
   "display_name": ".venv",
   "language": "python",
   "name": "python3"
  },
  "language_info": {
   "codemirror_mode": {
    "name": "ipython",
    "version": 3
   },
   "file_extension": ".py",
   "mimetype": "text/x-python",
   "name": "python",
   "nbconvert_exporter": "python",
   "pygments_lexer": "ipython3",
   "version": "3.11.9"
  }
 },
 "nbformat": 4,
 "nbformat_minor": 5
}
